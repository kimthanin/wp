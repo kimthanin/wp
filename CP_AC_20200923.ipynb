{
 "cells": [
  {
   "cell_type": "code",
   "execution_count": 2,
   "metadata": {},
   "outputs": [
    {
     "data": {
      "text/plain": [
       "0                                CC Price Jan-Aug.xlsx\n",
       "1          Final 1 โครงสร้างไม้เดือนกันยายน 63 r4.xlsx\n",
       "2              Finalโครงสร้างไม้เดือนเมษายน 63 V4.xlsx\n",
       "3                  โครงสร้างไม้เดือนกรกฎาคม 63 V6.xlsx\n",
       "4               โครงสร้างไม้เดือนกุมภาพันธ์ 63v 5.xlsx\n",
       "5                  โครงสร้างไม้เดือนพฤษภาคม 63 V2.xlsx\n",
       "6                    โครงสร้างไม้เดือนมกราคม63 V4.xlsx\n",
       "7    โครงสร้างไม้เดือนมิถุนายน 63 v4 1(ปรับunit use...\n",
       "8    โครงสร้างไม้เดือนมีนาคม 63 v4ปรับระหว่างเดือน....\n",
       "9                     โครงสร้างไม้เดือนสิงหาคม 63.xlsx\n",
       "dtype: object"
      ]
     },
     "execution_count": 2,
     "metadata": {},
     "output_type": "execute_result"
    }
   ],
   "source": [
    "from os import listdir\n",
    "from os.path import isfile, join\n",
    "import pandas as pd, numpy as np\n",
    "from scipy import stats\n",
    "onlyfiles = [f for f in listdir('WP') if isfile(join('WP', f))]\n",
    "tms = pd.Series(onlyfiles)\n",
    "tms"
   ]
  },
  {
   "cell_type": "code",
   "execution_count": 5,
   "metadata": {},
   "outputs": [],
   "source": [
    "fn = tms[tms.str.contains('มกราคม')].values[0]"
   ]
  },
  {
   "cell_type": "code",
   "execution_count": 6,
   "metadata": {},
   "outputs": [
    {
     "data": {
      "text/plain": [
       "Index([                                   'เขต',\n",
       "                                      'Cluster',\n",
       "                                      'รายชื่อ',\n",
       "                             'Storage Location',\n",
       "                                 'Wood Channel',\n",
       "                                  'Vendor Type',\n",
       "                                    'Wood Type',\n",
       "                                     'แหล่งไม้',\n",
       "                                      'คู่แข่ง',\n",
       "                                  'ราคาคู่แข่ง',\n",
       "                             'ปริมาณส่งคู่แข่ง',\n",
       "                            'ปริมาณไม้ทั้งหมด ',\n",
       "                              'SFT ปริมาณจัดหา',\n",
       "                          'ปริมาณ จัดส่ง \\n WS',\n",
       "                            'ปริมาณจัดส่ง \\nBP',\n",
       "                           'ปริมาณจัดส่ง \\nKPP',\n",
       "                           'ปริมาณจัดส่ง \\nCHP',\n",
       "                           'ปริมาณจัดส่ง \\nPHY',\n",
       "                   'ปริมาณจัดส่ง\\nTotal volume',\n",
       "                          'รวมต้นทุนไม้ทั้งหมด',\n",
       "                                  'ราคาซื้อไม้',\n",
       "                             'ค่าขึ้นไม้/ลงไม้',\n",
       "                                    'ค่าตัดไม้',\n",
       "                                     'ค่าขนส่ง',\n",
       "       'ค่าดำเนินการศูนย์\\nและลานตาชั่ง& อื่นๆ',\n",
       "                                        'โบนัส',\n",
       "                          'เงื่อนไขการให้โบนัส',\n",
       "                 'ราคา(ปรับระหว่างเดือน ถ้ามี)',\n",
       "                                 'ผู้รับผิดชอบ',\n",
       "                                     'หมายเหตุ',\n",
       "                                    'value log',\n",
       "                                     'value WS',\n",
       "                                     'value BP',\n",
       "                                    'value KPP',\n",
       "                                    'value CHP',\n",
       "                                    'value PHY',\n",
       "                                      'booking',\n",
       "                           'ปริมาณส่งคู่แข่ง.1',\n",
       "                                              1,\n",
       "                                              2,\n",
       "                                              3,\n",
       "                                              4,\n",
       "                                              5,\n",
       "                                              6,\n",
       "                                              7,\n",
       "                                              8,\n",
       "                                              9,\n",
       "                                             10,\n",
       "                                             11,\n",
       "                                             12,\n",
       "                                             13,\n",
       "                                             14,\n",
       "                                             15,\n",
       "                                             16,\n",
       "                                             17,\n",
       "                                             18,\n",
       "                                             19,\n",
       "                                             20,\n",
       "                                             21,\n",
       "                                             22,\n",
       "                                             23,\n",
       "                                             24,\n",
       "                                             25,\n",
       "                                             26,\n",
       "                                             27,\n",
       "                                             28,\n",
       "                                             29,\n",
       "                                             30,\n",
       "                                             31,\n",
       "                                    'รวมปริมาณ',\n",
       "                                    'จำนวนเงิน',\n",
       "                                   'ราคาเฉลี่ย',\n",
       "                                  'Unnamed: 73',\n",
       "                                  'Unnamed: 74',\n",
       "                                  'Unnamed: 75',\n",
       "                                  'Unnamed: 76',\n",
       "                                  'Unnamed: 77',\n",
       "                                  'Unnamed: 78',\n",
       "                                  'Unnamed: 79',\n",
       "                                  'Unnamed: 80',\n",
       "                                  'Unnamed: 81',\n",
       "                            'Own manage ลาน CC',\n",
       "                            'Own manage ลาน VC',\n",
       "                     'Own manage เหมาแปลง ออป.',\n",
       "                           'Own manage หน้าไร่',\n",
       "                               'Own Plantation',\n",
       "                                        'Agent',\n",
       "                                 'Direct Plant'],\n",
       "      dtype='object')"
      ]
     },
     "execution_count": 6,
     "metadata": {},
     "output_type": "execute_result"
    }
   ],
   "source": [
    "pd.read_excel('WP/'+fn, sheet_name='โครงสร้างไม้', index_col=0, header=2).columns"
   ]
  },
  {
   "cell_type": "code",
   "execution_count": 7,
   "metadata": {},
   "outputs": [],
   "source": [
    "def CPF(x):\n",
    "    cpi = [i for i in x if i>0]\n",
    "    if len(cpi) > 1:\n",
    "        zs  = stats.zscore(cpi); fzs=[]\n",
    "        for i in range(len(cpi)):\n",
    "            if np.abs(zs[i]) < 1.4:\n",
    "                fzs.append(cpi[i])\n",
    "        return fzs\n",
    "    else:\n",
    "        return cpi"
   ]
  },
  {
   "cell_type": "code",
   "execution_count": 8,
   "metadata": {},
   "outputs": [
    {
     "name": "stdout",
     "output_type": "stream",
     "text": [
      "1 212 5.170731707317073 1.3902439024390243 1199.9593495934957 50.885890582815016\n",
      "2 206 5.024390243902439 1.2439024390243902 1188.1707317073171 34.51219512195122\n",
      "3 239 5.558139534883721 1.2790697674418605 1190.2325581395348 35.348837209302324\n",
      "4 258 6.142857142857143 1.2857142857142858 1166.4285714285713 36.19047619047619\n",
      "5 309 7.536585365853658 1.3170731707317074 1145.6097560975609 29.969270213173616\n",
      "6 307 7.487804878048781 1.2682926829268293 1135.2439024390244 20.853658536585368\n",
      "7 301 7.341463414634147 1.2682926829268293 1155.9756097560976 31.829268292682926\n",
      "8 247 6.024390243902439 1.2439024390243902 1170.4065040650407 40.05758430356664\n",
      "9 227 5.536585365853658 1.2439024390243902 1171.7601626016262 38.24051113283494\n"
     ]
    }
   ],
   "source": [
    "SADA = {} #SADA, SAD, CPM, CPSD = {}, {}, {}, {}\n",
    "for tm_ in tm.keys(): # ['January']: #\n",
    "    fn = tms[tms.str.contains(tm[tm_])].values[0]\n",
    "    ex = pd.read_excel('WP/'+fn, sheet_name='โครงสร้างไม้', index_col=0, header=2)\n",
    "    \n",
    "    # Get only rows with Sloc\n",
    "    N = np.array(ex['Storage Location'].str.contains('N').fillna(False))\n",
    "    W = np.array(ex['Storage Location'].str.contains('W').fillna(False))\n",
    "    NW= N+W\n",
    "    \n",
    "    # Clean Competitor Price\n",
    "    cp = ex['ราคาคู่แข่ง'].apply(lambda x: str(x)[:5]).str.replace('-','').str.replace(',','')\n",
    "    cpi = cp.astype(float)\n",
    "    #cpi = cpi.fillna(0)\n",
    "    ex['CP'] = cpi\n",
    "    \n",
    "    # Group Agents and CP mby Sloc\n",
    "    Sloc = ex[NW].groupby('Storage Location')['รายชื่อ'].unique().index\n",
    "    Agent= ex[NW].groupby('Storage Location')['รายชื่อ'].unique().values\n",
    "    nCP  = ex[NW].groupby('Storage Location')['คู่แข่ง'].unique().values\n",
    "    CP   = ex[NW].groupby('Storage Location')['CP'].unique().apply(CPF)\n",
    "    QC   = ex[NW].groupby('Storage Location')['ปริมาณส่งคู่แข่ง'].sum()\n",
    "    QT   = ex[NW].groupby('Storage Location')['ปริมาณไม้ทั้งหมด '].sum()\n",
    "    QS   = ex[NW].groupby('Storage Location')['SFT ปริมาณจัดหา'].sum()\n",
    "    \n",
    "    SA = pd.DataFrame({'Agent': Agent, 'CP': CP, 'nCP':nCP, 'QC':QC, 'QT':QT, 'QS':QS}, index=Sloc)\n",
    "    SA['nAgent'] = SA['Agent'].apply(len)\n",
    "    SA['nCP']    = SA['nCP'].apply(len)\n",
    "    SA['CPM']    = SA['CP'].apply(np.mean)\n",
    "    SA['CPSD']   = SA['CP'].apply(np.std)\n",
    "    SA['Year']   = '2020'\n",
    "    SA['Month']  = tm_\n",
    "    \n",
    "    # Save and Print Information\n",
    "    #SAD[tm_] = SA['nAgent']#.sort_values(by='nAgent', ascending=False)\n",
    "    #CPM[tm_] = SA['CPM']#.sort_values(by='nAgent', ascending=False)\n",
    "    #CPSD[tm_]= SA['CPSD']#.sort_values(by='nAgent', ascending=False)\n",
    "    SADA[tm_] = SA\n",
    "    print(tm_, SA['nAgent'].sum(), SA['nAgent'].mean(), SA['nCP'].mean(), SA['CPM'].mean(), SA['CPSD'].mean())"
   ]
  },
  {
   "cell_type": "code",
   "execution_count": null,
   "metadata": {
    "scrolled": true
   },
   "outputs": [],
   "source": [
    "SADA['1']"
   ]
  },
  {
   "cell_type": "code",
   "execution_count": null,
   "metadata": {},
   "outputs": [],
   "source": [
    "SADA['1']['CPM'].mean()"
   ]
  },
  {
   "cell_type": "code",
   "execution_count": null,
   "metadata": {},
   "outputs": [],
   "source": []
  },
  {
   "cell_type": "code",
   "execution_count": null,
   "metadata": {},
   "outputs": [],
   "source": [
    "import datetime as dt\n",
    "dt.datetime.now().year+1"
   ]
  },
  {
   "cell_type": "code",
   "execution_count": null,
   "metadata": {},
   "outputs": [],
   "source": [
    "from sklearn.ensemble import RandomForestRegressor\n",
    "from sklearn.datasets import make_regression\n",
    "X, y = make_regression(n_features=4, n_informative=2, random_state=0, shuffle=False)"
   ]
  },
  {
   "cell_type": "code",
   "execution_count": null,
   "metadata": {},
   "outputs": [],
   "source": [
    "pd.DataFrame({'a':[1,2]}).append(pd.Series({'b':3}), ignore_index=True)"
   ]
  },
  {
   "cell_type": "code",
   "execution_count": null,
   "metadata": {},
   "outputs": [],
   "source": []
  }
 ],
 "metadata": {
  "kernelspec": {
   "display_name": "Python 3",
   "language": "python",
   "name": "python3"
  },
  "language_info": {
   "codemirror_mode": {
    "name": "ipython",
    "version": 3
   },
   "file_extension": ".py",
   "mimetype": "text/x-python",
   "name": "python",
   "nbconvert_exporter": "python",
   "pygments_lexer": "ipython3",
   "version": "3.8.5"
  }
 },
 "nbformat": 4,
 "nbformat_minor": 4
}

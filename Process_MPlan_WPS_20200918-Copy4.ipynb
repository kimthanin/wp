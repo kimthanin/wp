{
 "cells": [
  {
   "cell_type": "markdown",
   "metadata": {},
   "source": [
    "# Import"
   ]
  },
  {
   "cell_type": "code",
   "execution_count": null,
   "metadata": {},
   "outputs": [],
   "source": [
    "172.26.64.64\n",
    "\n"
   ]
  },
  {
   "cell_type": "code",
   "execution_count": null,
   "metadata": {},
   "outputs": [],
   "source": []
  },
  {
   "cell_type": "code",
   "execution_count": null,
   "metadata": {},
   "outputs": [],
   "source": [
    "%%time\n",
    "import pandas as pd, pyodbc\n",
    "import datetime as dt; ts = dt.datetime.now(); ts_str = ts.strftime(\"%Y_%m_%d_%H_%M_%S\"); print(ts_str)\n",
    "con = (r'DRIVER=ODBC Driver 17 for SQL Server;'\n",
    "       r'SERVER=172.26.64.64;'\n",
    "       r'DATABASE=MPlanProd;'\n",
    "       r'Trusted_Connection=no;'\n",
    "       r'Uid=muserSFT6049;'\n",
    "       r'Pwd=scgrawmat;')\n",
    "sql = 'SELECT * FROM [MPlanProd].[dbo].[View_Transaction_SFT_6049]'\n",
    "cxn = pyodbc.connect(con)\n",
    "df1 = pd.read_sql(sql, cxn)\n",
    "df1.to_csv('View_Transaction_SFT_6049_'+ts_str+'.csv', index=False)\n",
    "df  = df1.copy()\n",
    "print(df1.shape, ', '.join(df1.columns))"
   ]
  },
  {
   "cell_type": "code",
   "execution_count": null,
   "metadata": {},
   "outputs": [],
   "source": [
    "df.loc[]"
   ]
  },
  {
   "cell_type": "code",
   "execution_count": null,
   "metadata": {},
   "outputs": [],
   "source": [
    "df.TransactionType.value_counts()"
   ]
  },
  {
   "cell_type": "code",
   "execution_count": null,
   "metadata": {},
   "outputs": [],
   "source": [
    "df.SiteName.value_counts()"
   ]
  },
  {
   "cell_type": "code",
   "execution_count": null,
   "metadata": {},
   "outputs": [],
   "source": [
    "df.groupby(['Year']).MillWeight.sum()"
   ]
  },
  {
   "cell_type": "code",
   "execution_count": null,
   "metadata": {},
   "outputs": [],
   "source": [
    "df.groupby(['SiteName','Year']).MillWeight.sum()"
   ]
  },
  {
   "cell_type": "markdown",
   "metadata": {},
   "source": [
    "# Clean"
   ]
  },
  {
   "cell_type": "code",
   "execution_count": 1,
   "metadata": {},
   "outputs": [
    {
     "data": {
      "text/html": [
       "<style>.container { width:100% !important; }</style>"
      ],
      "text/plain": [
       "<IPython.core.display.HTML object>"
      ]
     },
     "metadata": {},
     "output_type": "display_data"
    },
    {
     "name": "stdout",
     "output_type": "stream",
     "text": [
      "(285054, 19) SAPCode, SiteName, WorkCentreName, Sloc, Day, Time, SupplierName, PlateLicense, TruckType, Ticket_no, Size_inch, InboundWeight, MillWeight, OutboundWeight, Purchase_price_thb_ton, Price_ton, Month, Year, TransactionType\n",
      "Wall time: 1.32 s\n"
     ]
    }
   ],
   "source": [
    "%%time\n",
    "from plotly import graph_objects as go\n",
    "import plotly.express as px\n",
    "import pandas as pd, numpy as np, datetime as dt, json\n",
    "from IPython.core.display import display, HTML\n",
    "display(HTML(\"<style>.container { width:100% !important; }</style>\"))\n",
    "pd.options.display.float_format = '{:,.4f}'.format\n",
    "pd.set_option('display.max_rows', 999)\n",
    "ts_str = '2020_09_15_15_18_23'\n",
    "df = pd.read_csv('View_Transaction_SFT_6049_'+ts_str+'.csv', parse_dates=True)\n",
    "print(df.shape, ', '.join(df.columns))"
   ]
  },
  {
   "cell_type": "code",
   "execution_count": 8,
   "metadata": {},
   "outputs": [],
   "source": [
    "df.loc[df.SiteName=='โรงสับไม้กำแพงเพชร', 'Sloc'] = 'CH11'\n",
    "df.loc[df.SiteName=='โรงสับไม้ชุมพวง', 'Sloc'] = 'CH12'\n",
    "df.loc[df.SiteName=='โรงสับไม้พระยืน', 'Sloc'] = 'CH13'"
   ]
  },
  {
   "cell_type": "code",
   "execution_count": 10,
   "metadata": {
    "scrolled": true
   },
   "outputs": [
    {
     "data": {
      "text/plain": [
       "142.82999999999998"
      ]
     },
     "execution_count": 10,
     "metadata": {},
     "output_type": "execute_result"
    }
   ],
   "source": [
    "df.loc[(df.Sloc=='CH13')&(df.Price_ton==1080)&(df.Month==1)&(df.Year==2020)]['MillWeight'].sum()"
   ]
  },
  {
   "cell_type": "code",
   "execution_count": null,
   "metadata": {},
   "outputs": [],
   "source": []
  },
  {
   "cell_type": "code",
   "execution_count": null,
   "metadata": {},
   "outputs": [],
   "source": []
  },
  {
   "cell_type": "code",
   "execution_count": null,
   "metadata": {},
   "outputs": [],
   "source": [
    "print(df.TransactionType.value_counts())"
   ]
  },
  {
   "cell_type": "code",
   "execution_count": null,
   "metadata": {},
   "outputs": [],
   "source": [
    "print(df.TransactionType.value_counts())\n",
    "df = df.loc[df.TransactionType=='ชั่งซื้อ']\n",
    "print(df.shape, 1)\n",
    "df = df.loc[df.SupplierName.notnull()]\n",
    "print(df.shape, 2)\n",
    "df = df.loc[df.MillWeight>0]\n",
    "print(df.shape, 3)\n",
    "df = df.loc[df.Purchase_price_thb_ton>0]\n",
    "print(df.shape, 4)\n",
    "df = df.loc[df.Price_ton>0]\n",
    "print(df.shape, 5)\n",
    "df = df.loc[df.Size_inch=='ยูคาไม้ท่อน 2.0 นิ้ว']\n",
    "print(df.shape, 6)\n",
    "df = df.loc[~df.Sloc.isna()]\n",
    "print(df.shape, 7)"
   ]
  },
  {
   "cell_type": "code",
   "execution_count": null,
   "metadata": {},
   "outputs": [],
   "source": [
    "df.SiteName.value_counts()"
   ]
  },
  {
   "cell_type": "code",
   "execution_count": null,
   "metadata": {},
   "outputs": [],
   "source": [
    "df.Sloc.value_counts()"
   ]
  },
  {
   "cell_type": "code",
   "execution_count": null,
   "metadata": {},
   "outputs": [],
   "source": [
    "df.WorkCentreName.value_counts()"
   ]
  },
  {
   "cell_type": "code",
   "execution_count": null,
   "metadata": {},
   "outputs": [],
   "source": [
    "df.Sloc.isna().sum()"
   ]
  },
  {
   "cell_type": "code",
   "execution_count": null,
   "metadata": {},
   "outputs": [],
   "source": [
    "df.groupby('Year').MillWeight.sum()"
   ]
  },
  {
   "cell_type": "code",
   "execution_count": null,
   "metadata": {},
   "outputs": [],
   "source": [
    "df_w = df[df.Sloc.str.contains('W1')]\n",
    "df_w"
   ]
  },
  {
   "cell_type": "code",
   "execution_count": null,
   "metadata": {},
   "outputs": [],
   "source": [
    "df_w.Year.min()"
   ]
  },
  {
   "cell_type": "code",
   "execution_count": null,
   "metadata": {},
   "outputs": [],
   "source": [
    "df_w.MillWeight.sum()"
   ]
  },
  {
   "cell_type": "code",
   "execution_count": null,
   "metadata": {},
   "outputs": [],
   "source": [
    "len(df)"
   ]
  },
  {
   "cell_type": "code",
   "execution_count": null,
   "metadata": {},
   "outputs": [],
   "source": [
    "df.Sloc.str.contains('W1').sum()"
   ]
  },
  {
   "cell_type": "code",
   "execution_count": null,
   "metadata": {},
   "outputs": [],
   "source": [
    "a = df.groupby('Sloc')[['Purchase_price_thb_ton']].sum().merge(df.groupby('Sloc')[['MillWeight']].sum(), left_index=True, right_index=True)\n",
    "a['mean'] = a['Purchase_price_thb_ton'] / a['MillWeight']"
   ]
  },
  {
   "cell_type": "code",
   "execution_count": null,
   "metadata": {},
   "outputs": [],
   "source": [
    "a"
   ]
  },
  {
   "cell_type": "code",
   "execution_count": null,
   "metadata": {},
   "outputs": [],
   "source": [
    "df.groupby('Sloc')[['MillWeight']].sum()"
   ]
  },
  {
   "cell_type": "code",
   "execution_count": null,
   "metadata": {},
   "outputs": [],
   "source": [
    "df.Purchase_price_thb_ton.sum() / df.MillWeight.sum()"
   ]
  },
  {
   "cell_type": "code",
   "execution_count": null,
   "metadata": {},
   "outputs": [],
   "source": [
    "df.MillWeight.sum()"
   ]
  },
  {
   "cell_type": "code",
   "execution_count": null,
   "metadata": {},
   "outputs": [],
   "source": [
    "df.Purchase_price_thb_ton.sum() / df.MillWeight.sum()"
   ]
  },
  {
   "cell_type": "code",
   "execution_count": null,
   "metadata": {},
   "outputs": [],
   "source": [
    "df = df.loc[~df.Sloc.isin(['W1NS','W1CP','N1BK'])]\n",
    "df = df.loc[~df.SiteName.isin(['สามง่าม','วังวน','บางกระทุ่ม','ตาก', 'CC6'])]\n",
    "df.loc[df.SiteName=='โรงสับไม้กำแพงเพชร', 'Sloc'] = 'CH11'\n",
    "df.loc[df.SiteName=='โรงสับไม้ชุมพวง', 'Sloc'] = 'CH12'\n",
    "df.loc[df.SiteName=='โรงสับไม้พระยืน', 'Sloc'] = 'CH13'\n",
    "df['Zone'] = df['Sloc'].str[:2]\n",
    "print(df.shape)"
   ]
  },
  {
   "cell_type": "code",
   "execution_count": null,
   "metadata": {},
   "outputs": [],
   "source": [
    "ck = ['Zone', 'Sloc','Year', 'Month', 'Day', 'MillWeight', 'Price_ton', 'Purchase_price_thb_ton', 'SupplierName']\n",
    "df = df.drop(df.loc[(df.Year == dt.datetime.now().year) & (df.Month == dt.datetime.now().month)].index)[ck]\n",
    "df = df.loc[df.Year>=2016].reset_index(drop=True)\n",
    "print(df.shape) # WorkCentreName, 'Time', 'Ticket_no', SiteName\n",
    "df.Year = df.Year.astype('str') # Change year type to string\n",
    "year = dt.datetime.now().year\n",
    "years = [str(year) for year in range(year-4,year+1)]"
   ]
  },
  {
   "cell_type": "markdown",
   "metadata": {},
   "source": [
    "# Supply"
   ]
  },
  {
   "cell_type": "code",
   "execution_count": null,
   "metadata": {},
   "outputs": [],
   "source": [
    "supply = df.copy()\n",
    "supply = supply.groupby(['Year','Month','Price_ton']).agg({'MillWeight':'sum', 'Purchase_price_thb_ton':'sum', 'SupplierName':'nunique', 'Day':'count'}).reset_index()\n",
    "supply = supply.rename(columns={'Day':'Num_Tran'}).sort_values(by=['Year','Month','Price_ton']).reset_index(drop=True) # , ascending=False"
   ]
  },
  {
   "cell_type": "code",
   "execution_count": null,
   "metadata": {},
   "outputs": [],
   "source": [
    "supply_= supply.copy()\n",
    "supply = {}\n",
    "for y in years:\n",
    "    supply[y] = {}\n",
    "    for m in range(1,13):\n",
    "        if not ((y==str(dt.datetime.now().year)) & (m in range(dt.datetime.now().month,13))):\n",
    "            supply[y][m] = supply_.loc[(supply_.Year==y)&(supply_.Month==m)]\n",
    "            supply[y][m] = supply[y][m].merge(supply[y][m][['MillWeight', 'Purchase_price_thb_ton']].cumsum(), left_index=True, right_index=True, suffixes=('','_c'))"
   ]
  },
  {
   "cell_type": "code",
   "execution_count": null,
   "metadata": {
    "scrolled": true
   },
   "outputs": [],
   "source": [
    "month_valu, month_quan, month_price = {}, {}, {}\n",
    "for y in years:\n",
    "    month_valu[y], month_quan[y], month_price[y] = {}, {}, {}\n",
    "    for m in range(1,13):\n",
    "        if not ((y==str(dt.datetime.now().year)) & (m in range(dt.datetime.now().month,13))):\n",
    "            month_valu[y][m] = supply[y][m].loc[(supply[y][m].Year==y)&(supply[y][m].Month==m)].Purchase_price_thb_ton.sum()\n",
    "            month_quan[y][m] = supply[y][m].loc[(supply[y][m].Year==y)&(supply[y][m].Month==m)].MillWeight.sum()\n",
    "            month_price[y][m]= month_valu[y][m]/month_quan[y][m]\n",
    "            print(f'{y}-{m}, month_valu={month_valu[y][m]:,.2f}, month_quan={month_quan[y][m]:,.2f}, month_price={month_price[y][m]:,.2f}')"
   ]
  },
  {
   "cell_type": "code",
   "execution_count": null,
   "metadata": {
    "scrolled": true
   },
   "outputs": [],
   "source": [
    "xx, yy, width, value = {}, {}, {}, {}\n",
    "for y in years:\n",
    "    xx[y], yy[y], width[y], value[y] = {}, {}, {}, {}\n",
    "    for m in range(1,13):\n",
    "        if not ((y==str(dt.datetime.now().year)) & (m in range(dt.datetime.now().month,13))):\n",
    "            xx[y][m] = []\n",
    "            yy[y][m] = supply[y][m].loc[(supply[y][m].Year==y)&(supply[y][m].Month==m)].Price_ton.tolist()\n",
    "            width[y][m] = supply[y][m].loc[(supply[y][m].Year==y)&(supply[y][m].Month==m)].MillWeight.tolist()\n",
    "            value[y][m] = supply[y][m].loc[(supply[y][m].Year==y)&(supply[y][m].Month==m)].Purchase_price_thb_ton.tolist()\n",
    "            for i in range(len(width[y][m])):\n",
    "                if i:\n",
    "                    xx[y][m] = xx[y][m] + [xx[y][m][i-1] + width[y][m][i-1]/2 + width[y][m][i]/2]\n",
    "                else:\n",
    "                    xx[y][m] = xx[y][m] + [width[y][m][i]/2]\n",
    "            print(f'{y}-{m}', len(width[y][m]), len(xx[y][m]))"
   ]
  },
  {
   "cell_type": "code",
   "execution_count": null,
   "metadata": {},
   "outputs": [],
   "source": [
    "sum_value = sum(value['2020'][1])\n",
    "fig = go.Figure(data=[go.Bar(\n",
    "    x=xx['2020'][1],\n",
    "    y=yy['2020'][1],\n",
    "    width=width['2020'][1],\n",
    "    text=value['2020'][1],\n",
    ")])\n",
    "fig.update_traces(texttemplate='%{text:.2s}', textposition='inside')\n",
    "fig.update_xaxes(dtick=1000)\n",
    "fig.update_layout(title=f'Total Value: THB {sum_value:,.2f}')\n",
    "fig.layout.title.font=dict(size=14)\n",
    "fig.show()"
   ]
  },
  {
   "cell_type": "code",
   "execution_count": null,
   "metadata": {},
   "outputs": [],
   "source": []
  },
  {
   "cell_type": "markdown",
   "metadata": {},
   "source": [
    "# Cumulative"
   ]
  },
  {
   "cell_type": "code",
   "execution_count": null,
   "metadata": {},
   "outputs": [],
   "source": [
    "months = [dt.date(dt.datetime.now().year, i, 1).strftime('%b') for i in range(1, 13)]\n",
    "emy = pd.DataFrame()\n",
    "for y in range(2016, dt.datetime.now().year + 1, 1):\n",
    "    em = pd.DataFrame(months, columns=['Month'])\n",
    "    em['Year'] = str(y)\n",
    "    em['Monthi'] = range(1,13)\n",
    "    emy = emy.append(em)\n",
    "emy = emy.reset_index(drop=True)\n",
    "for m in range(dt.datetime.now().month,13):\n",
    "    i = emy.loc[(emy.Year==str(dt.datetime.now().year))&(emy.Month==months[m-1])].index\n",
    "    emy.drop(i, inplace=True)"
   ]
  },
  {
   "cell_type": "code",
   "execution_count": null,
   "metadata": {},
   "outputs": [],
   "source": [
    "ym, ymi, ymt, ymc, ymp = {}, {}, {}, {}, {}; list_all=['all']+list(zone.keys())+list(sloc.keys())\n",
    "for s in list_all:\n",
    "    if s == 'all':\n",
    "        dfs = df.copy()\n",
    "    elif len(s)==2:\n",
    "        dfs = df.loc[df.Zone==s].copy()\n",
    "    else:\n",
    "        dfs = df.loc[df.Sloc==s].copy()\n",
    "\n",
    "    ym[s], ymt[s], ymi[s], ymc[s] = {}, {}, {}, {}\n",
    "    for t in ['Purchase_price_thb_ton','MillWeight']:\n",
    "        tcount   = dfs.groupby(['Year','Month'])[t].count().reset_index()\n",
    "        tmean    = dfs.groupby(['Year','Month'])[t].mean().reset_index()\n",
    "        tmerge   = tcount.merge(tmean, left_index=True, right_index=True, suffixes=('','_m'))\n",
    "        tmerge   = tmerge.rename(columns={t+'_m':'mean', t:'count'})[['mean','count']]\n",
    "        \n",
    "        ym[s][t] = dfs.groupby(['Year','Month'])[t].sum().reset_index()\n",
    "        ymt[s][t]= ym[s][t].merge(tmerge, left_index=True, right_index=True, suffixes=('_cm',''))\n",
    "        ymt[s][t]['Monthi'] = ymt[s][t]['Month']\n",
    "        ymt[s][t]['Month']  = ymt[s][t]['Month'].apply(lambda x: months[int(x)-1])\n",
    "        ymi[s][t]= ymt[s][t].merge(emy,left_on=['Year','Month','Monthi'],right_on=['Year','Month','Monthi'],how='outer') #emy\n",
    "        ymi[s][t]= ymi[s][t].sort_values(by=['Year','Monthi']).reset_index(drop=True).fillna(0)\n",
    "        ymc[s][t]= ymi[s][t].groupby('Year').cumsum().merge(ymi[s][t], left_index=True,right_index=True,suffixes=('_c',''))\n",
    "        ymc[s][t].drop(columns=['Monthi_c', 'mean_c', 'count_c'], inplace=True)\n",
    "    \n",
    "    ymp[s] = ymc[s]['Purchase_price_thb_ton'].merge(ymc[s]['MillWeight'],\n",
    "                                                    left_on=['Year', 'Month', 'Monthi'],\n",
    "                                                    right_on=['Year', 'Month', 'Monthi'])\n",
    "    ymp[s]['Price']  = (ymp[s]['Purchase_price_thb_ton'] / ymp[s]['MillWeight']).fillna(0)\n",
    "    ymp[s]['Price_c']= (ymp[s]['Purchase_price_thb_ton_c'] / ymp[s]['MillWeight_c']).fillna(0)"
   ]
  },
  {
   "cell_type": "code",
   "execution_count": null,
   "metadata": {
    "scrolled": false
   },
   "outputs": [],
   "source": [
    "s='all'\n",
    "for col in ['MillWeight', 'MillWeight_c', 'Price', 'Price_c', 'Purchase_price_thb_ton', 'Purchase_price_thb_ton_c']:\n",
    "    fig = go.Figure()\n",
    "    for year in ymp[s].Year.unique():\n",
    "        Y  = ymp[s].loc[ymp[s].Year==year].copy()\n",
    "        fig.add_trace(go.Scatter(x=Y['Month'], y=Y[col],\n",
    "                                 mode=\"markers+text+lines\", textposition=\"middle right\",\n",
    "                                 text=['' for i in range(len(Y)-1)]+[str(year)]))\n",
    "    fig.update_layout(showlegend=False, title=col)\n",
    "    fig.show()"
   ]
  },
  {
   "cell_type": "markdown",
   "metadata": {},
   "source": [
    "# Models"
   ]
  },
  {
   "cell_type": "code",
   "execution_count": null,
   "metadata": {},
   "outputs": [],
   "source": [
    "%%time\n",
    "from sktime.forecasting.arima import AutoARIMA\n",
    "for s in list_all:\n",
    "    f, forecaster = {}, {}\n",
    "    for m in months:\n",
    "        print(s, m)\n",
    "        \n",
    "        # 2nd-Step: PQ-Regression\n",
    "        f[m] = RandomForestRegressor()\n",
    "        f[m].fit(ymp[s].loc[ymp[s].Month == m].MillWeight.values.reshape(-1, 1),\n",
    "                 ymp[s].loc[ymp[s].Month == m]['Price'].values)\n",
    "        # 1st-Step: TS-Forecasting\n",
    "        hist = ymp[s].loc[ymp[s].Month == m].sort_values(by='Year')\n",
    "        hist = pd.Series(hist['MillWeight'].astype(float).values)\n",
    "        forecaster[m] = AutoARIMA()#ThetaForecaster(sp=1)\n",
    "        forecaster[m].fit(hist)\n",
    "        yp = forecaster[m].predict([1]).values[0]\n",
    "\n",
    "        if m in ymp[s].loc[ymp[s].Year == str(dt.datetime.now().year), 'Month'].values:\n",
    "            ymp[s] = ymp[s].append(pd.Series({'Month': m,\n",
    "                                              'Year': str(dt.datetime.now().year + 1) + 'F',\n",
    "                                              'MillWeight': yp}), ignore_index=True)\n",
    "        else:\n",
    "            ymp[s] = ymp[s].append(pd.Series({'Month': m,\n",
    "                                              'Year': str(dt.datetime.now().year) + 'F',\n",
    "                                              'MillWeight': yp}), ignore_index=True)\n",
    "            yp = forecaster[m].update_predict_single(pd.Series(yp), fh=[1]).values[0]\n",
    "            ymp[s] = ymp[s].append(pd.Series({'Month': m,\n",
    "                                              'Year': str(dt.datetime.now().year + 1) + 'F',\n",
    "                                              'MillWeight': yp}), ignore_index=True)\n",
    "\n",
    "            x_pred = ymp[s].loc[(ymp[s].Year == str(dt.datetime.now().year) + 'F') &\n",
    "                                (ymp[s].Month == m), 'MillWeight'].values[0]\n",
    "            y_pred = f[m].predict(x_pred.reshape(1, -1))\n",
    "            ymp[s].loc[(ymp[s].Year == str(dt.datetime.now().year) + 'F') &\n",
    "                       (ymp[s].Month == m), 'Price'] = y_pred\n",
    "\n",
    "            for cm in ['mean_x', 'mean_y', 'count_x', 'count_y']:\n",
    "                ymp[s].loc[(ymp[s].Year == str(dt.datetime.now().year) + 'F') &\n",
    "                           (ymp[s].Month == m), cm] = ymp[s].loc[ymp[s].Month == m, cm].mean()\n",
    "\n",
    "        x_pred = ymp[s].loc[(ymp[s].Year == str(dt.datetime.now().year + 1) + 'F') &\n",
    "                            (ymp[s].Month == m), 'MillWeight'].values[0]\n",
    "        y_pred = f[m].predict(x_pred.reshape(1, -1))\n",
    "        ymp[s].loc[(ymp[s].Year == str(dt.datetime.now().year + 1) + 'F') &\n",
    "                   (ymp[s].Month == m), 'Price'] = y_pred\n",
    "\n",
    "        for cm in ['mean_x', 'mean_y', 'count_x', 'count_y']:\n",
    "            ymp[s].loc[(ymp[s].Year == str(dt.datetime.now().year + 1) + 'F') &\n",
    "                       (ymp[s].Month == m), cm] = ymp[s].loc[ymp[s].Month == m, cm].mean()"
   ]
  },
  {
   "cell_type": "code",
   "execution_count": null,
   "metadata": {},
   "outputs": [],
   "source": [
    "ympd = {}\n",
    "for s in list_all:\n",
    "    a = ymp[s].copy()\n",
    "    a['Y'] = 'Year'\n",
    "    a['YP'] = a['Year'].str.replace('F', '').astype(int) - 2000\n",
    "    a['YC'] = a['YP']\n",
    "    a['Type'] = '2016_2019_Actual'\n",
    "    a.loc[a['Year'] == '2020', 'Type'] = '2020_Actual'\n",
    "    a.loc[a['Year'] == '2020F', 'Type'] = '2020_Forecast'\n",
    "    a.loc[a['Year'] == '2021F', 'Type'] = '2021_Forecast'\n",
    "    b = ymp[s].copy()\n",
    "    b['Y'] = 'Price'\n",
    "    b['YP'] = b['Price']\n",
    "    b['YC'] = b['Year'].str.replace('F', '').astype(int)\n",
    "    b['Type'] = '2016_2019_Actual'\n",
    "    b.loc[b['Year'] == '2020', 'Type'] = '2020_Actual'\n",
    "    b.loc[b['Year'] == '2020F', 'Type'] = '2020_Forecast'\n",
    "    b.loc[b['Year'] == '2021F', 'Type'] = '2021_Forecast'\n",
    "    ympd[s] = b.append(a, ignore_index=True)\n",
    "    ympd[s] = ympd[s].to_json(orient='records') # YearMonthPriceDup"
   ]
  },
  {
   "cell_type": "markdown",
   "metadata": {},
   "source": [
    "# Export"
   ]
  },
  {
   "cell_type": "code",
   "execution_count": null,
   "metadata": {
    "scrolled": true
   },
   "outputs": [],
   "source": [
    "wp = {}\n",
    "for s in sloc.keys():\n",
    "    df_ = df.loc[df.Sloc==s].groupby(['Year', 'Month', 'Day']).sum().reset_index()\n",
    "    df_['Price_Daily'] = df_['Purchase_price_thb_ton']/df_['MillWeight']\n",
    "    df_.drop('Price_ton', axis=1 ,inplace=True)\n",
    "    wp[s] = df_.to_json(orient = 'records')"
   ]
  },
  {
   "cell_type": "code",
   "execution_count": null,
   "metadata": {
    "scrolled": true
   },
   "outputs": [],
   "source": [
    "with open('Sloc.json', 'w') as o: json.dump(sloc, o)\n",
    "with open('Zone.json', 'w') as o: json.dump(zone, o)\n",
    "with open('wp.json',   'w') as o: json.dump(wp, o)\n",
    "with open('ympd.json', 'w') as o: json.dump(ympd, o)\n",
    "with open('list_all.json', 'w') as o: json.dump(list_all, o)\n",
    "with open('list_all.json', 'r') as o: list_all = json.load(o)\n",
    "#list_all"
   ]
  },
  {
   "cell_type": "code",
   "execution_count": null,
   "metadata": {},
   "outputs": [],
   "source": [
    "with open('ympd.json', 'r') as o:\n",
    "    ympd = json.load(o)\n",
    "for s in list_all:\n",
    "    ympd[s] = pd.read_json(ympd[s], orient='records')"
   ]
  },
  {
   "cell_type": "markdown",
   "metadata": {},
   "source": [
    "# Test"
   ]
  },
  {
   "cell_type": "raw",
   "metadata": {},
   "source": [
    "ympd[s]"
   ]
  },
  {
   "cell_type": "raw",
   "metadata": {},
   "source": [
    "months = [dt.date(dt.datetime.now().year, i, 1).strftime('%b') for i in range(1, 13)]\n",
    "year = dt.datetime.now().year\n",
    "years = [str(year), str(year + 1)]\n",
    "mcol, mcard, mtarget, mmill, mprice, ry = {}, {}, {}, {}, {}, {}"
   ]
  },
  {
   "cell_type": "raw",
   "metadata": {},
   "source": [
    "for s in list_all:\n",
    "    mcol[s], mcard[s], mtarget[s], mmill[s], mprice[s], ry[s] = {}, {}, {}, {}, {}, {}\n",
    "    for y in years:\n",
    "        mcol[s][y], mcard[s][y], mtarget[s][y], mmill[s][y], mprice[s][y] = {}, {}, {}, {}, {}\n",
    "        for m in months:\n",
    "            mill = ympd[s].loc[(ympd[s].Month == m) & (ympd[s].YC == y), 'MillWeight'].iloc[0]"
   ]
  },
  {
   "cell_type": "raw",
   "metadata": {},
   "source": [
    "m"
   ]
  },
  {
   "cell_type": "raw",
   "metadata": {},
   "source": [
    "ympd[s].loc[(ympd[s].Month == m) & (ympd[s].YC == int(y)), 'MillWeight']"
   ]
  },
  {
   "cell_type": "raw",
   "metadata": {},
   "source": [
    "            price = ympd[s].loc[(ympd[s].Month == m) & (ympd[s].YC == y), 'Price'].iloc[0]"
   ]
  },
  {
   "cell_type": "markdown",
   "metadata": {},
   "source": [
    "# Wood Demand / Supply Model"
   ]
  },
  {
   "cell_type": "code",
   "execution_count": null,
   "metadata": {},
   "outputs": [],
   "source": [
    "def wdsm(s):\n",
    "    S = ympd[s].loc[ympd[s].Y == 'Year']\n",
    "    fig1 = px.scatter(S, x='MillWeight', y='YP', color='YC', size='count_y', symbol='Type',\n",
    "                      color_continuous_scale='Blugrn', facet_col_spacing=0.005, facet_col='Month', height=240)\n",
    "    fig1.for_each_annotation(lambda a: a.update(text=a.text.split(\"=\")[-1]))\n",
    "    fig1.for_each_yaxis(lambda a: a.update(dtick=1))\n",
    "    fig1.for_each_yaxis(lambda a: a.update(title='', tickangle=90, dtick=1), row=1, col=1)\n",
    "    fig1.for_each_xaxis(lambda a: a.update(title='', showticklabels=False))  # showgrid=True, visible=False, dtick=10000\n",
    "    fig1.layout.update(coloraxis_showscale=False, showlegend=False, margin=dict(l=0, r=0, t=40, b=0)) #, title_font=dict(size=14))\n",
    "    fig1.update_yaxes(autorange=\"reversed\")  # matches=None\n",
    "\n",
    "    S = ympd[s].loc[ympd[s].Y == 'Price']\n",
    "    fig2 = px.scatter(S, x='MillWeight', y='YP', color='YC', size='mean_y', symbol='Type',\n",
    "                      color_continuous_scale='Blugrn', facet_col_spacing=0.005, facet_col='Month', height=500,\n",
    "                      labels={'Type': ''})  # , facet_row='Y'\n",
    "    fig2.for_each_annotation(lambda a: a.update(text=a.text.split(\"=\")[-1]))\n",
    "    fig2.for_each_yaxis(lambda a: a.update(title='', tickangle=90), row=1, col=1)\n",
    "    fig2.for_each_xaxis(lambda a: a.update(title='')) # , dtick=10000\n",
    "    fig2.layout.update(coloraxis_showscale=False, legend_orientation='h', margin=dict(l=0, r=0, t=0, b=0))\n",
    "    t = '''Top: Step_1_Forecast Quantity (Size=Average Transaction Size) |\n",
    "           Bottom: Step_2_Forecast Price (Size=Number of Transactions) |\n",
    "           Color: Year (Dasker=Newer)'''\n",
    "    return t, fig1.show(), fig2.show()"
   ]
  },
  {
   "cell_type": "code",
   "execution_count": null,
   "metadata": {
    "scrolled": false
   },
   "outputs": [],
   "source": [
    "wdsm('all')"
   ]
  },
  {
   "cell_type": "markdown",
   "metadata": {},
   "source": [
    "# Sen"
   ]
  },
  {
   "cell_type": "code",
   "execution_count": null,
   "metadata": {},
   "outputs": [],
   "source": [
    "wpm = {}\n",
    "with open('wp.json', 'r') as o: wp = json.load(o)\n",
    "for s in sloc.keys():\n",
    "    wp[s]          = pd.read_json(wp[s], orient = 'records').rename(columns={'Monthi':'Month'})\n",
    "    wp[s]['dt']    = pd.to_datetime(wp[s][['Year', 'Month', 'Day']])\n",
    "    #wp[s].drop(['Year', 'Month', 'Day'], axis=1, inplace=True)\n",
    "    wpm[s]         = wp[s].groupby(['Year','Month']).sum().reset_index().drop('Price_Daily', axis=1)\n",
    "    wpm[s]['Price_Monthly'] = wpm[s]['Purchase_price_thb_ton']/wpm[s]['MillWeight']\n",
    "    wpm[s]['Day']  = 1\n",
    "    wpm[s]['dt']   = pd.to_datetime(wpm[s][['Year', 'Month', 'Day']])\n",
    "    wpm[s]['Sloc'] = s"
   ]
  },
  {
   "cell_type": "code",
   "execution_count": null,
   "metadata": {
    "scrolled": true
   },
   "outputs": [],
   "source": [
    "wpms = {}\n",
    "for s in sloc.keys():\n",
    "    sen        = wpm[s][['MillWeight','Price_Monthly']].pct_change().apply(lambda x: round(x, 5))*100\n",
    "    sen['sen'] = sen['MillWeight'] / sen['Price_Monthly']\n",
    "    sen        = sen.replace(np.inf, 1000).replace(-np.inf, -1000).clip(-100, 100)\n",
    "    wpms[s]    = sen.merge(wpm[s]['dt'], left_index=True, right_index=True)\n",
    "    wpms[s]['Sloc'] = s"
   ]
  },
  {
   "cell_type": "code",
   "execution_count": null,
   "metadata": {},
   "outputs": [],
   "source": [
    "wpmj, wpmsj = {}, {};\n",
    "wpmsjz = pd.DataFrame()\n",
    "for z in zone.keys():\n",
    "    a, b = pd.DataFrame(), pd.DataFrame()\n",
    "    for s in zone[z]:\n",
    "        a = a.append(wpm[s])\n",
    "        b = b.append(wpms[s])\n",
    "    wpmj[z] = a\n",
    "    wpmsj[z] = b\n",
    "    wpmsjz = wpmsjz.append(wpmsj[z])"
   ]
  },
  {
   "cell_type": "code",
   "execution_count": null,
   "metadata": {
    "scrolled": true
   },
   "outputs": [],
   "source": [
    "tl = np.sort(wpmsjz.dt.unique())[::-1]\n",
    "ss = wpmsjz.Sloc.unique()\n",
    "dft= pd.DataFrame()\n",
    "for t in tl:\n",
    "    dfs = pd.DataFrame(ss, columns=['Sloc'])\n",
    "    dfs['dt'] = t\n",
    "    dft = dft.append(dfs)\n",
    "wpmsjzm = wpmsjz.merge(dft, left_on=['dt','Sloc'], right_on=['dt','Sloc'], how='outer')"
   ]
  },
  {
   "cell_type": "code",
   "execution_count": null,
   "metadata": {},
   "outputs": [],
   "source": [
    "px.line(wpms[s], x='dt', y='sen')"
   ]
  }
 ],
 "metadata": {
  "kernelspec": {
   "display_name": "Python 3",
   "language": "python",
   "name": "python3"
  },
  "language_info": {
   "codemirror_mode": {
    "name": "ipython",
    "version": 3
   },
   "file_extension": ".py",
   "mimetype": "text/x-python",
   "name": "python",
   "nbconvert_exporter": "python",
   "pygments_lexer": "ipython3",
   "version": "3.8.5"
  }
 },
 "nbformat": 4,
 "nbformat_minor": 2
}

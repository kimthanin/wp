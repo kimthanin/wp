{
 "cells": [
  {
   "cell_type": "code",
   "execution_count": 1,
   "metadata": {},
   "outputs": [
    {
     "name": "stdout",
     "output_type": "stream",
     "text": [
      "2020_09_08_14_29_00\n"
     ]
    }
   ],
   "source": [
    "import pandas as pd, numpy as np\n",
    "pd.options.display.float_format = '{:,.4f}'.format\n",
    "import plotly.express as px; from plotly import graph_objects as go\n",
    "import datetime as dt; ts = dt.datetime.now(); ts_str = ts.strftime(\"%Y_%m_%d_%H_%M_%S\"); print(ts_str)"
   ]
  },
  {
   "cell_type": "code",
   "execution_count": 2,
   "metadata": {},
   "outputs": [],
   "source": [
    "sql = 'SELECT * FROM [MPlanProd].[dbo].[View_Transaction_SFT_6049]'\n",
    "con = (\n",
    "    r'DRIVER=ODBC Driver 17 for SQL Server;'\n",
    "    r'SERVER=172.31.228.90;'\n",
    "    r'DATABASE=MPlanProd;'\n",
    "    r'Trusted_Connection=no;'\n",
    "    r'Uid=DataEng;'\n",
    "    r'Pwd=Data@2020;'\n",
    ")"
   ]
  },
  {
   "cell_type": "code",
   "execution_count": 3,
   "metadata": {},
   "outputs": [
    {
     "name": "stdout",
     "output_type": "stream",
     "text": [
      "(284594, 19) SAPCode, SiteName, WorkCentreName, Sloc, Day, Time, SupplierName, PlateLicense, TruckType, Ticket_no, Size_inch, InboundWeight, MillWeight, OutboundWeight, Purchase_price_thb_ton, Price_ton, Month, Year, TransactionType\n",
      "Wall time: 44.9 s\n"
     ]
    }
   ],
   "source": [
    "%%time\n",
    "import pyodbc\n",
    "cxn = pyodbc.connect(con)\n",
    "df1 = pd.read_sql(sql, cxn)\n",
    "print(df1.shape, ', '.join(df1.columns))"
   ]
  },
  {
   "cell_type": "code",
   "execution_count": 4,
   "metadata": {},
   "outputs": [],
   "source": [
    "df = df1.copy()\n",
    "df = df.loc[df.Size_inch=='ยูคาไม้ท่อน 2.0 นิ้ว']\n",
    "df = df.loc[~df.SiteName.isin(['สามง่าม','วังวน','ตาก','บางกระทุ่ม', 'CC6'])]\n",
    "df.loc[df.SiteName=='โรงสับไม้กำแพงเพชร', 'Sloc'] = 'CH11'\n",
    "df.loc[df.SiteName=='โรงสับไม้ชุมพวง', 'Sloc'] = 'CH12'\n",
    "df.loc[df.SiteName=='โรงสับไม้พระยืน', 'Sloc'] = 'CH13'\n",
    "df['Zone'] = df['Sloc'].str[:2]"
   ]
  },
  {
   "cell_type": "code",
   "execution_count": 5,
   "metadata": {},
   "outputs": [],
   "source": [
    "col_keep = ['Zone', 'Sloc', 'Year', 'Month', 'Day', 'MillWeight', 'Price_ton', 'Purchase_price_thb_ton']\n",
    "df[col_keep].to_csv('View_Transaction_SFT_6049_'+ts_str+'.csv', index=False)\n",
    "#df = pd.read_csv('View_Transaction_SFT_6049_'+ts_str+'.csv', parse_dates=True)\n",
    "#df['dt'] = pd.to_datetime(df['dt'].astype(str) + ' ' + df['Time'].astype(str))"
   ]
  },
  {
   "cell_type": "code",
   "execution_count": null,
   "metadata": {},
   "outputs": [],
   "source": [
    "#df.SiteName.value_counts()#.sum()"
   ]
  },
  {
   "cell_type": "code",
   "execution_count": null,
   "metadata": {},
   "outputs": [],
   "source": [
    "#df.Sloc.value_counts()#.sum()"
   ]
  },
  {
   "cell_type": "markdown",
   "metadata": {},
   "source": [
    "# Cumulative"
   ]
  },
  {
   "cell_type": "code",
   "execution_count": null,
   "metadata": {},
   "outputs": [],
   "source": [
    "ym, ymi, ymc = {}, {}, {}\n",
    "months = [dt.date(2008, i, 1).strftime('%b') for i in range(1,13)]"
   ]
  },
  {
   "cell_type": "code",
   "execution_count": null,
   "metadata": {},
   "outputs": [],
   "source": [
    "for t in ['Purchase_price_thb_ton','MillWeight']:\n",
    "    ym[t] = df.groupby(['Year','Month'])[t].sum().reset_index()\n",
    "    ymi[t]= ym[t][ym[t].Year>=2016].reset_index(drop=True)\n",
    "    ymc[t]= ymi[t].groupby('Year').cumsum().merge(ymi[t], left_index=True, right_index=True, suffixes=('_c',''))"
   ]
  },
  {
   "cell_type": "code",
   "execution_count": null,
   "metadata": {},
   "outputs": [],
   "source": [
    "ymp = ymc['Purchase_price_thb_ton'].merge(ymc['MillWeight'])\n",
    "ymp['Price']  = ymp['Purchase_price_thb_ton'] / ymp['MillWeight']\n",
    "ymp['Price_c']= ymp['Purchase_price_thb_ton_c'] / ymp['MillWeight_c']"
   ]
  },
  {
   "cell_type": "code",
   "execution_count": null,
   "metadata": {},
   "outputs": [],
   "source": [
    "ymp.Year = ymp.Year.astype('category')\n",
    "ymp.Month = ymp.Month.astype('category')\n",
    "ymp"
   ]
  },
  {
   "cell_type": "code",
   "execution_count": null,
   "metadata": {
    "scrolled": true
   },
   "outputs": [],
   "source": [
    "for t in ['Purchase_price_thb_ton','MillWeight']:\n",
    "    if t == 'MillWeight': cols = ['MillWeight', 'MillWeight_c']\n",
    "    else: cols = ['Purchase_price_thb_ton', 'Purchase_price_thb_ton_c']\n",
    "    for col in cols:\n",
    "        fig = go.Figure()\n",
    "        for year in ymc[t].Year.unique():\n",
    "            Y  = ymc[t].loc[ymc[t].Year==year]\n",
    "            fig.add_trace(go.Scatter(x=months, y=Y[col], mode=\"markers+text+lines\", textposition=\"middle right\",\n",
    "                                     text=['' for i in range(len(Y)-1)]+[str(year)]))\n",
    "        fig.update_layout(showlegend=False, title=col)\n",
    "        fig.show()"
   ]
  },
  {
   "cell_type": "code",
   "execution_count": null,
   "metadata": {
    "scrolled": true
   },
   "outputs": [],
   "source": [
    "for col in ['Price', 'Price_c']:\n",
    "    fig = go.Figure()\n",
    "    for year in ymp.Year.unique():\n",
    "        Y  = ymp.loc[ymp.Year==year]\n",
    "        fig.add_trace(go.Scatter(x=months, y=Y[col],\n",
    "                                 mode=\"markers+text+lines\", textposition=\"middle right\",\n",
    "                                 text=['' for i in range(len(Y)-1)]+[str(year)]))\n",
    "    fig.update_layout(showlegend=False, title=col)\n",
    "    fig.show()"
   ]
  },
  {
   "cell_type": "markdown",
   "metadata": {},
   "source": [
    "# Supply Estimation"
   ]
  },
  {
   "cell_type": "code",
   "execution_count": null,
   "metadata": {},
   "outputs": [],
   "source": [
    "px.scatter(ymp.loc[(ymp.Year==2019)|(ymp.Year==2020)], x='MillWeight', y='Price', color='Year', hover_name='Month')"
   ]
  },
  {
   "cell_type": "code",
   "execution_count": null,
   "metadata": {},
   "outputs": [],
   "source": [
    "px.scatter(ymp.loc[ymp.Month==9], x='MillWeight', y='Price', color='Year')"
   ]
  },
  {
   "cell_type": "code",
   "execution_count": null,
   "metadata": {},
   "outputs": [],
   "source": [
    "px.scatter(ymp, x='MillWeight', y='Price', color='Year')"
   ]
  },
  {
   "cell_type": "markdown",
   "metadata": {},
   "source": [
    "# Export"
   ]
  },
  {
   "cell_type": "code",
   "execution_count": null,
   "metadata": {},
   "outputs": [],
   "source": [
    "SlocDICT = dict(df.groupby('SiteName')['Sloc'].max())\n",
    "SlocDICT = dict([(value, key) for key, value in SlocDICT.items()])\n",
    "ZoneDICT = df.groupby('Zone').agg({'Sloc': lambda x: list(np.unique(x))})['Sloc'].to_dict()"
   ]
  },
  {
   "cell_type": "raw",
   "metadata": {},
   "source": [
    "[{'label': z, \"value\": z} for z in ZoneDICT]"
   ]
  },
  {
   "cell_type": "raw",
   "metadata": {},
   "source": [
    "pathname='/N2'\n",
    "[{'label': z, \"value\": z} for z in ZoneDICT[pathname[1:]]]"
   ]
  },
  {
   "cell_type": "code",
   "execution_count": null,
   "metadata": {},
   "outputs": [],
   "source": [
    "# WorkCentreName, 'Time'\n",
    "ck=['Zone','Sloc','SiteName','Ticket_no', 'Year', 'Month', 'Day', 'MillWeight','Price_ton', 'Purchase_price_thb_ton']\n",
    "df = df[ck]"
   ]
  },
  {
   "cell_type": "code",
   "execution_count": null,
   "metadata": {
    "scrolled": true
   },
   "outputs": [],
   "source": [
    "wp = {}\n",
    "for s in SlocDICT.keys():\n",
    "    df_ = df.loc[df.Sloc==s].groupby(['Year', 'Month', 'Day']).sum().reset_index()\n",
    "    df_['Price_Daily'] = df_['Purchase_price_thb_ton']/df_['MillWeight']\n",
    "    df_.drop('Price_ton', axis=1 ,inplace=True)\n",
    "    wp[s] = df_.to_json(orient = 'records')"
   ]
  },
  {
   "cell_type": "code",
   "execution_count": null,
   "metadata": {
    "scrolled": true
   },
   "outputs": [],
   "source": [
    "import json\n",
    "with open('Sloc.json', 'w') as o: json.dump(SlocDICT, o)\n",
    "with open('Zone.json', 'w') as o: json.dump(ZoneDICT, o)\n",
    "with open('wp.json', 'w') as o: json.dump(wp, o)"
   ]
  },
  {
   "cell_type": "code",
   "execution_count": null,
   "metadata": {},
   "outputs": [],
   "source": [
    "wpm = {}\n",
    "with open('wp.json', 'r') as o: wp = json.load(o)\n",
    "for s in SlocDICT.keys():\n",
    "    wp[s]          = pd.read_json(wp[s], orient = 'records')\n",
    "    wp[s]['dt']    = pd.to_datetime(wp[s][['Year', 'Month', 'Day']])\n",
    "    #wp[s].drop(['Year', 'Month', 'Day'], axis=1, inplace=True)\n",
    "    wpm[s]         = wp[s].groupby(['Year','Month']).sum().reset_index().drop('Price_Daily', axis=1)\n",
    "    wpm[s]['Price_Monthly'] = wpm[s]['Purchase_price_thb_ton']/wpm[s]['MillWeight']\n",
    "    wpm[s]['Day']  = 1   \n",
    "    wpm[s]['dt']   = pd.to_datetime(wpm[s][['Year', 'Month', 'Day']])\n",
    "    wpm[s]['Sloc'] = s"
   ]
  },
  {
   "cell_type": "markdown",
   "metadata": {},
   "source": [
    "# Test"
   ]
  },
  {
   "cell_type": "code",
   "execution_count": null,
   "metadata": {},
   "outputs": [],
   "source": [
    "wp[s]"
   ]
  },
  {
   "cell_type": "code",
   "execution_count": null,
   "metadata": {
    "scrolled": true
   },
   "outputs": [],
   "source": [
    "wpms = {}\n",
    "for s in SlocDICT.keys():\n",
    "    sen        = wpm[s][['MillWeight','Price_Monthly']].pct_change().apply(lambda x: round(x, 5))*100\n",
    "    sen['sen'] = sen['MillWeight'] / sen['Price_Monthly']\n",
    "    sen        = sen.replace(np.inf, 1000).replace(-np.inf, -1000).clip(-100, 100)\n",
    "    wpms[s]    = sen.merge(wpm[s]['dt'], left_index=True, right_index=True)\n",
    "    wpms[s]['Sloc'] = s"
   ]
  },
  {
   "cell_type": "code",
   "execution_count": null,
   "metadata": {},
   "outputs": [],
   "source": [
    "wpmj, wpmsj = {}, {};\n",
    "wpmsjz = pd.DataFrame()\n",
    "for z in ZoneDICT.keys():\n",
    "    a, b = pd.DataFrame(), pd.DataFrame()\n",
    "    for s in ZoneDICT[z]:\n",
    "        a = a.append(wpm[s])\n",
    "        b = b.append(wpms[s])\n",
    "    wpmj[z] = a\n",
    "    wpmsj[z] = b\n",
    "    wpmsjz = wpmsjz.append(wpmsj[z])"
   ]
  },
  {
   "cell_type": "code",
   "execution_count": null,
   "metadata": {
    "scrolled": true
   },
   "outputs": [],
   "source": [
    "tl = np.sort(wpmsjz.dt.unique())[::-1]\n",
    "ss = wpmsjz.Sloc.unique()\n",
    "dft= pd.DataFrame()\n",
    "for t in tl:\n",
    "    dfs = pd.DataFrame(ss, columns=['Sloc'])\n",
    "    dfs['dt'] = t\n",
    "    dft = dft.append(dfs)\n",
    "wpmsjzm = wpmsjz.merge(dft, left_on=['dt','Sloc'], right_on=['dt','Sloc'], how='outer')\n"
   ]
  },
  {
   "cell_type": "markdown",
   "metadata": {},
   "source": [
    "# Plot"
   ]
  },
  {
   "cell_type": "code",
   "execution_count": null,
   "metadata": {},
   "outputs": [],
   "source": [
    "len(px.scatter(wpmj[z], x='dt', y='Price_Monthly', size='MillWeight', color='Sloc', size_max=60).data)"
   ]
  },
  {
   "cell_type": "raw",
   "metadata": {},
   "source": [
    "for t in tl[:24]:\n",
    "    fig = px.bar(wpmsjzm.loc[wpmsjzm.dt==t], x='Sloc', y='sen', color='Sloc',\n",
    "                 title=str(pd.to_datetime(t).year)+'_'+str(pd.to_datetime(t).month))\n",
    "    fig.show()"
   ]
  },
  {
   "cell_type": "code",
   "execution_count": null,
   "metadata": {},
   "outputs": [],
   "source": [
    "px.line(wpms[s], x='dt', y='sen')"
   ]
  },
  {
   "cell_type": "code",
   "execution_count": null,
   "metadata": {},
   "outputs": [],
   "source": [
    "fig = go.Scatter(x=wpm[s]['dt'].values, y=wpm[s]['Price_Monthly'].values,\n",
    "                 marker=dict(size=wpm[s]['MillWeight'].values))\n",
    "fig"
   ]
  }
 ],
 "metadata": {
  "kernelspec": {
   "display_name": "Python 3",
   "language": "python",
   "name": "python3"
  },
  "language_info": {
   "codemirror_mode": {
    "name": "ipython",
    "version": 3
   },
   "file_extension": ".py",
   "mimetype": "text/x-python",
   "name": "python",
   "nbconvert_exporter": "python",
   "pygments_lexer": "ipython3",
   "version": "3.8.5"
  }
 },
 "nbformat": 4,
 "nbformat_minor": 2
}
